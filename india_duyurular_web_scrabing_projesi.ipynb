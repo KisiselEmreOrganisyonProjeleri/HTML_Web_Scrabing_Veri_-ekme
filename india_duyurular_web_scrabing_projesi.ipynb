{
 "cells": [
  {
   "cell_type": "markdown",
   "metadata": {},
   "source": [
    "# Soru 1\n",
    "verilen linkle requests ile istek atın daha sonra bunu beatifulsoup4 ile içeriği html olarak yazdırın."
   ]
  },
  {
   "cell_type": "code",
   "execution_count": null,
   "metadata": {},
   "outputs": [],
   "source": [
    "import requests\n",
    "from bs4 import BeautifulSoup\n",
    "\n",
    "url = 'https://presidentofindia.nic.in/speeches'\n",
    "response  = requests.get(url)\n",
    "\n",
    "html_content = response.text\n",
    "soup = BeautifulSoup(html_content, 'html.parser')\n",
    "print(soup.prettify())"
   ]
  },
  {
   "cell_type": "markdown",
   "metadata": {},
   "source": [
    "# Soru 2"
   ]
  },
  {
   "cell_type": "markdown",
   "metadata": {},
   "source": []
  },
  {
   "cell_type": "markdown",
   "metadata": {},
   "source": [
    "soup nesnesinden table etiketinden views-table classından verileri bulunuz ve yazdırınız."
   ]
  },
  {
   "cell_type": "code",
   "execution_count": 8,
   "metadata": {},
   "outputs": [
    {
     "data": {
      "text/plain": [
       "'\\n\\n\\nSr. No.\\nIssue Date\\nTitle\\n\\n\\n\\n\\n1          \\n26-12-2024          \\nभारत की राष्ट्रपति श्रीमती द्रौपदी मुर्मु का प्रधान मंत्री राष्ट्रीय बाल पुरस्कार समारोह में सम्बोधन (HINDI) \\n\\n\\n2          \\n23-12-2024          \\nभारत की राष्ट्रपति, श्रीमती द्रौपदी मुर्मु का वर्धमान महावीर मेडिकल कॉलेज एवं सफदरजंग अस्पताल के दीक्षांत समारोह में सम्बोधन (HINDI) \\n\\n\\n3          \\n20-12-2024          \\nADDRESS BY THE HON’BLE PRESIDENT OF INDIA SMT. DROUPADI MURMU ON THE OCCASION OF PRESENTATION OF COLOURS TO COLLEGE OF DEFENCE MANAGEMENT, SECUNDERABAD \\n\\n\\n4          \\n17-12-2024          \\nभारत की राष्ट्रपति, श्रीमती द्रौपदी मुर्मु का AIIMS – मंगलगिरि के प्रथम दीक्षांत समारोह में सम्बोधन (HINDI) \\n\\n\\n5          \\n16-12-2024          \\nSPEECH BY THE PRESIDENT OF INDIA, SMT DROUPADI MURMU AT THE BANQUET HOSTED IN HONOUR OF  HIS EXCELLENCY ANURA KUMARA DISANAYAKA  PRESIDENT OF THE DEMOCRATIC SOCIALIST REPUBLIC OF SRI LANKA\\n \\n\\n\\n6          \\n11-12-2024          \\nभारत की राष्ट्रपति, श्रीमती द्रौपदी मुर्मु का राष्ट्रीय पंचायत पुरस्कार वितरण समारोह में सम्बोधन (HINDI) \\n\\n\\n7          \\n10-12-2024          \\nADDRESS BY THE HON’BLE PRESIDENT OF INDIA, SMT DROUPADI MURMU ON THE OCCASION OF HUMAN RIGHTS DAY \\n\\n\\n8          \\n04-12-2024          \\nADDRESS BY THE HON’BLE PRESIDENT OF INDIA, SMT. DROUPADI MURMU ON THE OCCASION OF NAVY DAY \\n\\n\\n9          \\n03-12-2024          \\nभारत की राष्ट्रपति श्रीमती द्रौपदी मुर्मु का दिव्यांग-जन सशक्तीकरण के क्षेत्र में 2024 के राष्ट्रीय पुरस्कार समारोह में सम्बोधन (HINDI) \\n\\n\\n10          \\n02-12-2024          \\nभारत की राष्ट्रपति श्रीमती द्रौपदी मुर्मु का भारतीय राजस्व सेवा (सीमा शुल्क और अप्रत्यक्ष कर) के प्रशिक्षु अधिकारियों से मुलाकात के अवसर पर सम्बोधन (HINDI) \\n\\n\\n'"
      ]
     },
     "execution_count": 8,
     "metadata": {},
     "output_type": "execute_result"
    }
   ],
   "source": [
    "konusma_tablosu = soup.find('table', class_ = 'views-table')\n",
    "konusma_tablosu.text"
   ]
  },
  {
   "cell_type": "markdown",
   "metadata": {},
   "source": [
    "# soru 3\n",
    "tbody etiketini bulun ve içerisinden bütün tr etiketlerinide ayıklayın ve bunu satırlar isimli bir değişkene atayın"
   ]
  },
  {
   "cell_type": "code",
   "execution_count": null,
   "metadata": {},
   "outputs": [],
   "source": [
    "satırlar = konusma_tablosu.find('tbody').find_all('tr')\n",
    "satırlar"
   ]
  },
  {
   "cell_type": "markdown",
   "metadata": {},
   "source": [
    "# Soru 4\n",
    "satırlar içerisinden bir for döngüsü başlatın ve her bir satırdaki sütunları bulmak için td etiketini bulun."
   ]
  },
  {
   "cell_type": "code",
   "execution_count": 12,
   "metadata": {},
   "outputs": [
    {
     "name": "stdout",
     "output_type": "stream",
     "text": [
      "('1', '26-12-2024', 'भारत की राष्ट्रपति श्रीमती द्रौपदी मुर्मु का प्रधान मंत्री राष्ट्रीय बाल पुरस्कार समारोह में सम्बोधन (HINDI)', 'https://presidentofindia.nic.in//speeches/bhaarata-kai-raasatarapatai-saraimatai-daraaupadai-mauramau-kaa-paradhaana-mantarai')\n",
      "('2', '23-12-2024', 'भारत की राष्ट्रपति, श्रीमती द्रौपदी मुर्मु का वर्धमान महावीर मेडिकल कॉलेज एवं सफदरजंग अस्पताल के दीक्षांत समारोह में सम्बोधन (HINDI)', 'https://presidentofindia.nic.in//speeches/bhaarata-kai-raasatarapatai-saraimatai-daraaupadai-mauramau-kaa-varadhamaana-mahaavaira')\n",
      "('3', '20-12-2024', 'ADDRESS BY THE HON’BLE PRESIDENT OF INDIA SMT. DROUPADI MURMU ON THE OCCASION OF PRESENTATION OF COLOURS TO COLLEGE OF DEFENCE MANAGEMENT, SECUNDERABAD', 'https://presidentofindia.nic.in//speeches/address-honble-president-india-smt-droupadi-murmu-occasion-presentation-colours-college')\n",
      "('4', '17-12-2024', 'भारत की राष्ट्रपति, श्रीमती द्रौपदी मुर्मु का AIIMS – मंगलगिरि के प्रथम दीक्षांत समारोह में सम्बोधन (HINDI)', 'https://presidentofindia.nic.in//speeches/bhaarata-kai-raasatarapatai-saraimatai-daraaupadai-mauramau-kaa-aiims-mangalagairai-kae')\n",
      "('5', '16-12-2024', 'SPEECH BY THE PRESIDENT OF INDIA, SMT DROUPADI MURMU AT THE BANQUET HOSTED IN HONOUR OF  HIS EXCELLENCY ANURA KUMARA DISANAYAKA  PRESIDENT OF THE DEMOCRATIC SOCIALIST REPUBLIC OF SRI LANKA', 'https://presidentofindia.nic.in//speeches/speech-president-india-smt-droupadi-murmu-banquet-hosted-honour-his-excellency-anura')\n",
      "('6', '11-12-2024', 'भारत की राष्ट्रपति, श्रीमती द्रौपदी मुर्मु का राष्ट्रीय पंचायत पुरस्कार वितरण समारोह में सम्बोधन (HINDI)', 'https://presidentofindia.nic.in//speeches/bhaarata-kai-raasatarapatai-saraimatai-daraaupadai-mauramau-kaa-raasataraiya-pancaayata')\n",
      "('7', '10-12-2024', 'ADDRESS BY THE HON’BLE PRESIDENT OF INDIA, SMT DROUPADI MURMU ON THE OCCASION OF HUMAN RIGHTS DAY', 'https://presidentofindia.nic.in//speeches/address-honble-president-india-smt-droupadi-murmu-occasion-human-rights-day')\n",
      "('8', '04-12-2024', 'ADDRESS BY THE HON’BLE PRESIDENT OF INDIA, SMT. DROUPADI MURMU ON THE OCCASION OF NAVY DAY', 'https://presidentofindia.nic.in//speeches/address-honble-president-india-smt-droupadi-murmu-occasion-navy-day')\n",
      "('9', '03-12-2024', 'भारत की राष्ट्रपति श्रीमती द्रौपदी मुर्मु का दिव्यांग-जन सशक्तीकरण के क्षेत्र में 2024 के राष्ट्रीय पुरस्कार समारोह में सम्बोधन (HINDI)', 'https://presidentofindia.nic.in//speeches/bhaarata-kai-raasatarapatai-saraimatai-daraaupadai-mauramau-kaa-daivayaanga-jana')\n",
      "('10', '02-12-2024', 'भारत की राष्ट्रपति श्रीमती द्रौपदी मुर्मु का भारतीय राजस्व सेवा (सीमा शुल्क और अप्रत्यक्ष कर) के प्रशिक्षु अधिकारियों से मुलाकात के अवसर पर सम्बोधन (HINDI)', 'https://presidentofindia.nic.in//speeches/bhaarata-kai-raasatarapatai-saraimatai-daraaupadai-mauramau-kaa-bhaarataiya-raajasava')\n"
     ]
    }
   ],
   "source": [
    "konusma_verileri = []\n",
    "for satir in satırlar:\n",
    "    sütunlar = satir.find_all('td')\n",
    "    if len(sütunlar) >= 3:\n",
    "        sr_no = sütunlar[0].get_text(strip= True)\n",
    "        issue_date = sütunlar[1].get_text(strip = True)\n",
    "        title = sütunlar[2].get_text(strip = True)\n",
    "        link = sütunlar[2].find('a')['href']\n",
    "        full_link = 'https://presidentofindia.nic.in/' + link # tam url\n",
    "        konusma_verileri.append((sr_no, issue_date, title, full_link))\n",
    "\n",
    "for data in konusma_verileri:\n",
    "    print(data)\n"
   ]
  },
  {
   "cell_type": "markdown",
   "metadata": {},
   "source": [
    "# Soru 5\n",
    "Yukarda oluşturduğumuz konusma verileri isimli datayı dataframe'e dönüştürün ve csv dosyası olarak kayıt edin."
   ]
  },
  {
   "cell_type": "code",
   "execution_count": 17,
   "metadata": {},
   "outputs": [
    {
     "data": {
      "text/html": [
       "<div>\n",
       "<style scoped>\n",
       "    .dataframe tbody tr th:only-of-type {\n",
       "        vertical-align: middle;\n",
       "    }\n",
       "\n",
       "    .dataframe tbody tr th {\n",
       "        vertical-align: top;\n",
       "    }\n",
       "\n",
       "    .dataframe thead th {\n",
       "        text-align: right;\n",
       "    }\n",
       "</style>\n",
       "<table border=\"1\" class=\"dataframe\">\n",
       "  <thead>\n",
       "    <tr style=\"text-align: right;\">\n",
       "      <th></th>\n",
       "      <th>Konuşma_id</th>\n",
       "      <th>İssue_Date</th>\n",
       "      <th>konuşma_başlığı</th>\n",
       "      <th>konusma_link</th>\n",
       "    </tr>\n",
       "  </thead>\n",
       "  <tbody>\n",
       "    <tr>\n",
       "      <th>0</th>\n",
       "      <td>1</td>\n",
       "      <td>26-12-2024</td>\n",
       "      <td>भारत की राष्ट्रपति श्रीमती द्रौपदी मुर्मु का प...</td>\n",
       "      <td>https://presidentofindia.nic.in//speeches/bhaa...</td>\n",
       "    </tr>\n",
       "    <tr>\n",
       "      <th>1</th>\n",
       "      <td>2</td>\n",
       "      <td>23-12-2024</td>\n",
       "      <td>भारत की राष्ट्रपति, श्रीमती द्रौपदी मुर्मु का ...</td>\n",
       "      <td>https://presidentofindia.nic.in//speeches/bhaa...</td>\n",
       "    </tr>\n",
       "    <tr>\n",
       "      <th>2</th>\n",
       "      <td>3</td>\n",
       "      <td>20-12-2024</td>\n",
       "      <td>ADDRESS BY THE HON’BLE PRESIDENT OF INDIA SMT....</td>\n",
       "      <td>https://presidentofindia.nic.in//speeches/addr...</td>\n",
       "    </tr>\n",
       "    <tr>\n",
       "      <th>3</th>\n",
       "      <td>4</td>\n",
       "      <td>17-12-2024</td>\n",
       "      <td>भारत की राष्ट्रपति, श्रीमती द्रौपदी मुर्मु का ...</td>\n",
       "      <td>https://presidentofindia.nic.in//speeches/bhaa...</td>\n",
       "    </tr>\n",
       "    <tr>\n",
       "      <th>4</th>\n",
       "      <td>5</td>\n",
       "      <td>16-12-2024</td>\n",
       "      <td>SPEECH BY THE PRESIDENT OF INDIA, SMT DROUPADI...</td>\n",
       "      <td>https://presidentofindia.nic.in//speeches/spee...</td>\n",
       "    </tr>\n",
       "  </tbody>\n",
       "</table>\n",
       "</div>"
      ],
      "text/plain": [
       "  Konuşma_id  İssue_Date                                    konuşma_başlığı  \\\n",
       "0          1  26-12-2024  भारत की राष्ट्रपति श्रीमती द्रौपदी मुर्मु का प...   \n",
       "1          2  23-12-2024  भारत की राष्ट्रपति, श्रीमती द्रौपदी मुर्मु का ...   \n",
       "2          3  20-12-2024  ADDRESS BY THE HON’BLE PRESIDENT OF INDIA SMT....   \n",
       "3          4  17-12-2024  भारत की राष्ट्रपति, श्रीमती द्रौपदी मुर्मु का ...   \n",
       "4          5  16-12-2024  SPEECH BY THE PRESIDENT OF INDIA, SMT DROUPADI...   \n",
       "\n",
       "                                        konusma_link  \n",
       "0  https://presidentofindia.nic.in//speeches/bhaa...  \n",
       "1  https://presidentofindia.nic.in//speeches/bhaa...  \n",
       "2  https://presidentofindia.nic.in//speeches/addr...  \n",
       "3  https://presidentofindia.nic.in//speeches/bhaa...  \n",
       "4  https://presidentofindia.nic.in//speeches/spee...  "
      ]
     },
     "execution_count": 17,
     "metadata": {},
     "output_type": "execute_result"
    }
   ],
   "source": [
    "import pandas as pd\n",
    "\n",
    "df = pd.DataFrame(data = konusma_verileri, columns = ['Konuşma_id','İssue_Date','konuşma_başlığı','konusma_link'])\n",
    "df.head()"
   ]
  },
  {
   "cell_type": "code",
   "execution_count": 26,
   "metadata": {},
   "outputs": [],
   "source": [
    "df.to_csv('hindistan_duyurular.csv')"
   ]
  },
  {
   "cell_type": "code",
   "execution_count": 28,
   "metadata": {},
   "outputs": [],
   "source": [
    "df = pd.read_csv('/workspaces/HTML_Web_Scrabing_Veri_-ekme/hindistan_duyurular.csv')\n",
    "df.drop(['Unnamed: 0.1','Unnamed: 0','Konuşma_id.1'],axis = 1, inplace=True)"
   ]
  },
  {
   "cell_type": "code",
   "execution_count": 29,
   "metadata": {},
   "outputs": [
    {
     "data": {
      "text/html": [
       "<div>\n",
       "<style scoped>\n",
       "    .dataframe tbody tr th:only-of-type {\n",
       "        vertical-align: middle;\n",
       "    }\n",
       "\n",
       "    .dataframe tbody tr th {\n",
       "        vertical-align: top;\n",
       "    }\n",
       "\n",
       "    .dataframe thead th {\n",
       "        text-align: right;\n",
       "    }\n",
       "</style>\n",
       "<table border=\"1\" class=\"dataframe\">\n",
       "  <thead>\n",
       "    <tr style=\"text-align: right;\">\n",
       "      <th></th>\n",
       "      <th>Konuşma_id</th>\n",
       "      <th>İssue_Date</th>\n",
       "      <th>konuşma_başlığı</th>\n",
       "      <th>konusma_link</th>\n",
       "    </tr>\n",
       "  </thead>\n",
       "  <tbody>\n",
       "    <tr>\n",
       "      <th>0</th>\n",
       "      <td>0</td>\n",
       "      <td>26-12-2024</td>\n",
       "      <td>भारत की राष्ट्रपति श्रीमती द्रौपदी मुर्मु का प...</td>\n",
       "      <td>https://presidentofindia.nic.in//speeches/bhaa...</td>\n",
       "    </tr>\n",
       "    <tr>\n",
       "      <th>1</th>\n",
       "      <td>1</td>\n",
       "      <td>23-12-2024</td>\n",
       "      <td>भारत की राष्ट्रपति, श्रीमती द्रौपदी मुर्मु का ...</td>\n",
       "      <td>https://presidentofindia.nic.in//speeches/bhaa...</td>\n",
       "    </tr>\n",
       "    <tr>\n",
       "      <th>2</th>\n",
       "      <td>2</td>\n",
       "      <td>20-12-2024</td>\n",
       "      <td>ADDRESS BY THE HON’BLE PRESIDENT OF INDIA SMT....</td>\n",
       "      <td>https://presidentofindia.nic.in//speeches/addr...</td>\n",
       "    </tr>\n",
       "    <tr>\n",
       "      <th>3</th>\n",
       "      <td>3</td>\n",
       "      <td>17-12-2024</td>\n",
       "      <td>भारत की राष्ट्रपति, श्रीमती द्रौपदी मुर्मु का ...</td>\n",
       "      <td>https://presidentofindia.nic.in//speeches/bhaa...</td>\n",
       "    </tr>\n",
       "    <tr>\n",
       "      <th>4</th>\n",
       "      <td>4</td>\n",
       "      <td>16-12-2024</td>\n",
       "      <td>SPEECH BY THE PRESIDENT OF INDIA, SMT DROUPADI...</td>\n",
       "      <td>https://presidentofindia.nic.in//speeches/spee...</td>\n",
       "    </tr>\n",
       "  </tbody>\n",
       "</table>\n",
       "</div>"
      ],
      "text/plain": [
       "   Konuşma_id  İssue_Date                                    konuşma_başlığı  \\\n",
       "0           0  26-12-2024  भारत की राष्ट्रपति श्रीमती द्रौपदी मुर्मु का प...   \n",
       "1           1  23-12-2024  भारत की राष्ट्रपति, श्रीमती द्रौपदी मुर्मु का ...   \n",
       "2           2  20-12-2024  ADDRESS BY THE HON’BLE PRESIDENT OF INDIA SMT....   \n",
       "3           3  17-12-2024  भारत की राष्ट्रपति, श्रीमती द्रौपदी मुर्मु का ...   \n",
       "4           4  16-12-2024  SPEECH BY THE PRESIDENT OF INDIA, SMT DROUPADI...   \n",
       "\n",
       "                                        konusma_link  \n",
       "0  https://presidentofindia.nic.in//speeches/bhaa...  \n",
       "1  https://presidentofindia.nic.in//speeches/bhaa...  \n",
       "2  https://presidentofindia.nic.in//speeches/addr...  \n",
       "3  https://presidentofindia.nic.in//speeches/bhaa...  \n",
       "4  https://presidentofindia.nic.in//speeches/spee...  "
      ]
     },
     "execution_count": 29,
     "metadata": {},
     "output_type": "execute_result"
    }
   ],
   "source": [
    "df.head()"
   ]
  },
  {
   "cell_type": "code",
   "execution_count": null,
   "metadata": {},
   "outputs": [],
   "source": []
  }
 ],
 "metadata": {
  "kernelspec": {
   "display_name": "sanal_ortam",
   "language": "python",
   "name": "python3"
  },
  "language_info": {
   "codemirror_mode": {
    "name": "ipython",
    "version": 3
   },
   "file_extension": ".py",
   "mimetype": "text/x-python",
   "name": "python",
   "nbconvert_exporter": "python",
   "pygments_lexer": "ipython3",
   "version": "3.12.1"
  }
 },
 "nbformat": 4,
 "nbformat_minor": 2
}
